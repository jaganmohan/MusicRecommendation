{
 "cells": [
  {
   "cell_type": "code",
   "execution_count": 34,
   "metadata": {
    "collapsed": true
   },
   "outputs": [],
   "source": [
    "import numpy as np"
   ]
  },
  {
   "cell_type": "code",
   "execution_count": 37,
   "metadata": {},
   "outputs": [
    {
     "name": "stdout",
     "output_type": "stream",
     "text": [
      "Metrics on predicted latent factors from mel-spectograms\n",
      "Accuracy is defined as correctly observed preferences of users on both positives and negatives\n",
      "Accuracy :  0.44721\n",
      "Precision is defined as model correctly recommending songs based on user preference\n",
      "Precision :  0.5238\n",
      "Metrics on predicted latent factors from MFCC\n",
      "Accuracy is defined as correctly observed preferences of users on both positives and negatives\n",
      "Accuracy :  0.54169\n",
      "Precision is defined as model correctly recommending songs based on user preference\n",
      "Precision :  0.4883\n"
     ]
    },
    {
     "data": {
      "text/plain": [
       "(0.54169, 0.4883)"
      ]
     },
     "execution_count": 37,
     "metadata": {},
     "output_type": "execute_result"
    }
   ],
   "source": [
    "\n",
    "def metrics(UV, _UV):\n",
    "    \"\"\" \n",
    "    Calculates accuracy and true positives \n",
    "    UV : user-item original peference matrix\n",
    "    _UV : user-item predicted preference matrix\n",
    "    returns accuracy, true_positives\n",
    "    \"\"\"\n",
    "    positives = 0\n",
    "    for x in np.nditer(UV, op_flags=['readwrite']):\n",
    "        if x > 0.5:\n",
    "            x[...] = 1\n",
    "            positives += 1\n",
    "        else:\n",
    "            x[...] = 0\n",
    "    for x in np.nditer(_UV, op_flags=['readwrite']):\n",
    "        if x > 0.5:\n",
    "            x[...] = 1\n",
    "        else:\n",
    "            x[...] = 0\n",
    "        \n",
    "    samples = UV.shape[0]*UV.shape[1]\n",
    "    acc = np.sum(UV == _UV)\n",
    "    acc = acc/samples\n",
    "    print(\"Accuracy is defined as correctly observed preferences of users on both positives and negatives\")\n",
    "    print(\"Accuracy : \",acc)\n",
    "\n",
    "    true_pos = 0\n",
    "    for x,y in zip(UV.flatten(),_UV.flatten()):\n",
    "        if x == 1 and y ==1:\n",
    "            true_pos += 1\n",
    "    true_pos /= positives\n",
    "    print(\"Precision is defined as model correctly recommending songs based on user preference\")\n",
    "    print(\"Precision : \",true_pos)\n",
    "    \n",
    "    return acc, true_pos\n",
    "\n",
    "print(\"Metrics on predicted latent factors from mel-spectograms\")\n",
    "UV = np.loadtxt('melspec_ALS/UV.csv', delimiter=',')\n",
    "_UV = np.loadtxt('melspec_ALS/UVd.csv', delimiter=',')\n",
    "metrics(UV, _UV)\n",
    "\n",
    "print(\"Metrics on predicted latent factors from MFCC\")\n",
    "UV = np.loadtxt('mfcc_ALS/UV.csv', delimiter=',')\n",
    "_UV = np.loadtxt('mfcc_ALS/UVd.csv', delimiter=',')\n",
    "metrics(UV, _UV)"
   ]
  }
 ],
 "metadata": {
  "kernelspec": {
   "display_name": "Python 3",
   "language": "python",
   "name": "python3"
  },
  "language_info": {
   "codemirror_mode": {
    "name": "ipython",
    "version": 3
   },
   "file_extension": ".py",
   "mimetype": "text/x-python",
   "name": "python",
   "nbconvert_exporter": "python",
   "pygments_lexer": "ipython3",
   "version": "3.6.3"
  }
 },
 "nbformat": 4,
 "nbformat_minor": 2
}
